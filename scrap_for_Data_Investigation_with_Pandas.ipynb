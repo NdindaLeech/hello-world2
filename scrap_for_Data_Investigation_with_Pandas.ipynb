{
  "nbformat": 4,
  "nbformat_minor": 0,
  "metadata": {
    "colab": {
      "name": "scrap for Data Investigation with Pandas",
      "provenance": [],
      "collapsed_sections": [
        "VSnOCZ5-IPCi",
        "HToJZ2gBPawZ",
        "IICLGbvBRYHq",
        "RAVzK5O6IR8v",
        "NicC8P9LMjvO"
      ],
      "toc_visible": true,
      "include_colab_link": true
    },
    "kernelspec": {
      "name": "python3",
      "display_name": "Python 3"
    }
  },
  "cells": [
    {
      "cell_type": "markdown",
      "metadata": {
        "id": "view-in-github",
        "colab_type": "text"
      },
      "source": [
        "<a href=\"https://colab.research.google.com/github/NdindaLeech/hello-world2/blob/master/scrap_for_Data_Investigation_with_Pandas.ipynb\" target=\"_parent\"><img src=\"https://colab.research.google.com/assets/colab-badge.svg\" alt=\"Open In Colab\"/></a>"
      ]
    },
    {
      "cell_type": "markdown",
      "metadata": {
        "id": "B-ZF3yPCWGPf"
      },
      "source": [
        "<font color=\"green\">*To start working on this notebook, or any other notebook that we will use in the Moringa Data Science Course, we will need to save our own copy of it. We can do this by clicking File > Save a Copy in Drive. We will then be able to make edits to our own copy of this notebook.*</font>"
      ]
    },
    {
      "cell_type": "markdown",
      "metadata": {
        "id": "m0tgCkvzPLEa"
      },
      "source": [
        "# Data Investigation with Pandas"
      ]
    },
    {
      "cell_type": "markdown",
      "metadata": {
        "id": "VSnOCZ5-IPCi"
      },
      "source": [
        "## 1.0 Importing our Libraries"
      ]
    },
    {
      "cell_type": "code",
      "metadata": {
        "id": "3r-KDLvrO44a"
      },
      "source": [
        "# Importing the libraries we will need \n",
        "\n",
        "# Importing the pandas library\n",
        "import pandas as pd\n",
        "\n",
        "# Importing the numpy library\n",
        "import numpy as np"
      ],
      "execution_count": null,
      "outputs": []
    },
    {
      "cell_type": "markdown",
      "metadata": {
        "id": "HToJZ2gBPawZ"
      },
      "source": [
        "## 1.1 Reading the Dataset from our CSV file\n",
        "\n"
      ]
    },
    {
      "cell_type": "markdown",
      "metadata": {
        "id": "LBUr8VUXQX-K"
      },
      "source": [
        "\n",
        "\n",
        "The dataset we will use contains information about the 2009 Census - The Rural Urban Population by Age, Sex and District.\n",
        "\n",
        "\n",
        "*   Dataset link for download or access: [Link](https://drive.google.com/open?id=1pc9ZLFGsosdWBk1lI29ADIqRtCvD_FBe)\n",
        "\n",
        "\n",
        "\n"
      ]
    },
    {
      "cell_type": "code",
      "metadata": {
        "id": "1acwmZanRNHs"
      },
      "source": [
        "# Let's read the data from the CSV file and create the dataframe to be used\n",
        "# \n",
        "df = pd.read_csv('Rural_Urban_Population_By_Age_Sex_and_by_District__2009.csv')"
      ],
      "execution_count": null,
      "outputs": []
    },
    {
      "cell_type": "markdown",
      "metadata": {
        "id": "IICLGbvBRYHq"
      },
      "source": [
        "## 1.2 Previewing our Dataset\n"
      ]
    },
    {
      "cell_type": "code",
      "metadata": {
        "id": "WrwHg-hzR5BY",
        "colab": {
          "base_uri": "https://localhost:8080/",
          "height": 343
        },
        "outputId": "99d9e190-1940-4f25-c4ed-4b51d6c50f23"
      },
      "source": [
        "# Let's preview the first 10 rows of our data\n",
        "# \n",
        "df.head(10)"
      ],
      "execution_count": null,
      "outputs": [
        {
          "output_type": "execute_result",
          "data": {
            "text/html": [
              "<div>\n",
              "<style scoped>\n",
              "    .dataframe tbody tr th:only-of-type {\n",
              "        vertical-align: middle;\n",
              "    }\n",
              "\n",
              "    .dataframe tbody tr th {\n",
              "        vertical-align: top;\n",
              "    }\n",
              "\n",
              "    .dataframe thead th {\n",
              "        text-align: right;\n",
              "    }\n",
              "</style>\n",
              "<table border=\"1\" class=\"dataframe\">\n",
              "  <thead>\n",
              "    <tr style=\"text-align: right;\">\n",
              "      <th></th>\n",
              "      <th>District</th>\n",
              "      <th>Urban/Rural</th>\n",
              "      <th>Age_years</th>\n",
              "      <th>Male</th>\n",
              "      <th>Female</th>\n",
              "      <th>Total</th>\n",
              "      <th>County</th>\n",
              "      <th>Province</th>\n",
              "      <th>OBJECTID</th>\n",
              "    </tr>\n",
              "  </thead>\n",
              "  <tbody>\n",
              "    <tr>\n",
              "      <th>0</th>\n",
              "      <td>NAIROBI WEST</td>\n",
              "      <td>Urban</td>\n",
              "      <td>0</td>\n",
              "      <td>10126</td>\n",
              "      <td>10116</td>\n",
              "      <td>20242</td>\n",
              "      <td>Nairobi</td>\n",
              "      <td>NAIROBI</td>\n",
              "      <td>0</td>\n",
              "    </tr>\n",
              "    <tr>\n",
              "      <th>1</th>\n",
              "      <td>NAIROBI WEST</td>\n",
              "      <td>Urban</td>\n",
              "      <td>1</td>\n",
              "      <td>8124</td>\n",
              "      <td>7989</td>\n",
              "      <td>16113</td>\n",
              "      <td>Nairobi</td>\n",
              "      <td>NAIROBI</td>\n",
              "      <td>1</td>\n",
              "    </tr>\n",
              "    <tr>\n",
              "      <th>2</th>\n",
              "      <td>NAIROBI WEST</td>\n",
              "      <td>Urban</td>\n",
              "      <td>2</td>\n",
              "      <td>8462</td>\n",
              "      <td>8627</td>\n",
              "      <td>17089</td>\n",
              "      <td>Nairobi</td>\n",
              "      <td>NAIROBI</td>\n",
              "      <td>2</td>\n",
              "    </tr>\n",
              "    <tr>\n",
              "      <th>3</th>\n",
              "      <td>NAIROBI WEST</td>\n",
              "      <td>Urban</td>\n",
              "      <td>3</td>\n",
              "      <td>8334</td>\n",
              "      <td>8420</td>\n",
              "      <td>16754</td>\n",
              "      <td>Nairobi</td>\n",
              "      <td>NAIROBI</td>\n",
              "      <td>3</td>\n",
              "    </tr>\n",
              "    <tr>\n",
              "      <th>4</th>\n",
              "      <td>NAIROBI WEST</td>\n",
              "      <td>Urban</td>\n",
              "      <td>4</td>\n",
              "      <td>7948</td>\n",
              "      <td>7820</td>\n",
              "      <td>15768</td>\n",
              "      <td>Nairobi</td>\n",
              "      <td>NAIROBI</td>\n",
              "      <td>4</td>\n",
              "    </tr>\n",
              "    <tr>\n",
              "      <th>5</th>\n",
              "      <td>NAIROBI WEST</td>\n",
              "      <td>Urban</td>\n",
              "      <td>5</td>\n",
              "      <td>7547</td>\n",
              "      <td>7660</td>\n",
              "      <td>15207</td>\n",
              "      <td>Nairobi</td>\n",
              "      <td>NAIROBI</td>\n",
              "      <td>5</td>\n",
              "    </tr>\n",
              "    <tr>\n",
              "      <th>6</th>\n",
              "      <td>NAIROBI WEST</td>\n",
              "      <td>Urban</td>\n",
              "      <td>6</td>\n",
              "      <td>6966</td>\n",
              "      <td>7082</td>\n",
              "      <td>14048</td>\n",
              "      <td>Nairobi</td>\n",
              "      <td>NAIROBI</td>\n",
              "      <td>6</td>\n",
              "    </tr>\n",
              "    <tr>\n",
              "      <th>7</th>\n",
              "      <td>NAIROBI WEST</td>\n",
              "      <td>Urban</td>\n",
              "      <td>7</td>\n",
              "      <td>6511</td>\n",
              "      <td>6674</td>\n",
              "      <td>13185</td>\n",
              "      <td>Nairobi</td>\n",
              "      <td>NAIROBI</td>\n",
              "      <td>7</td>\n",
              "    </tr>\n",
              "    <tr>\n",
              "      <th>8</th>\n",
              "      <td>NAIROBI WEST</td>\n",
              "      <td>Urban</td>\n",
              "      <td>8</td>\n",
              "      <td>6171</td>\n",
              "      <td>6489</td>\n",
              "      <td>12660</td>\n",
              "      <td>Nairobi</td>\n",
              "      <td>NAIROBI</td>\n",
              "      <td>8</td>\n",
              "    </tr>\n",
              "    <tr>\n",
              "      <th>9</th>\n",
              "      <td>NAIROBI WEST</td>\n",
              "      <td>Urban</td>\n",
              "      <td>9</td>\n",
              "      <td>6361</td>\n",
              "      <td>6662</td>\n",
              "      <td>13023</td>\n",
              "      <td>Nairobi</td>\n",
              "      <td>NAIROBI</td>\n",
              "      <td>9</td>\n",
              "    </tr>\n",
              "  </tbody>\n",
              "</table>\n",
              "</div>"
            ],
            "text/plain": [
              "       District Urban/Rural Age_years   Male  ...  Total   County Province OBJECTID\n",
              "0  NAIROBI WEST       Urban         0  10126  ...  20242  Nairobi  NAIROBI        0\n",
              "1  NAIROBI WEST       Urban         1   8124  ...  16113  Nairobi  NAIROBI        1\n",
              "2  NAIROBI WEST       Urban         2   8462  ...  17089  Nairobi  NAIROBI        2\n",
              "3  NAIROBI WEST       Urban         3   8334  ...  16754  Nairobi  NAIROBI        3\n",
              "4  NAIROBI WEST       Urban         4   7948  ...  15768  Nairobi  NAIROBI        4\n",
              "5  NAIROBI WEST       Urban         5   7547  ...  15207  Nairobi  NAIROBI        5\n",
              "6  NAIROBI WEST       Urban         6   6966  ...  14048  Nairobi  NAIROBI        6\n",
              "7  NAIROBI WEST       Urban         7   6511  ...  13185  Nairobi  NAIROBI        7\n",
              "8  NAIROBI WEST       Urban         8   6171  ...  12660  Nairobi  NAIROBI        8\n",
              "9  NAIROBI WEST       Urban         9   6361  ...  13023  Nairobi  NAIROBI        9\n",
              "\n",
              "[10 rows x 9 columns]"
            ]
          },
          "metadata": {
            "tags": []
          },
          "execution_count": 4
        }
      ]
    },
    {
      "cell_type": "markdown",
      "metadata": {
        "id": "RAVzK5O6IR8v"
      },
      "source": [
        "## 1.3 Accessing Information about our Dataset"
      ]
    },
    {
      "cell_type": "code",
      "metadata": {
        "id": "0d2kfemDIYWI",
        "colab": {
          "base_uri": "https://localhost:8080/"
        },
        "outputId": "8fa4244b-d575-441e-adc2-44ce97f898ca"
      },
      "source": [
        "# We can getting to know more about the dataset by accessing its information \n",
        "#\n",
        "df.info()"
      ],
      "execution_count": null,
      "outputs": [
        {
          "output_type": "stream",
          "text": [
            "<class 'pandas.core.frame.DataFrame'>\n",
            "RangeIndex: 25420 entries, 0 to 25419\n",
            "Data columns (total 9 columns):\n",
            " #   Column       Non-Null Count  Dtype \n",
            "---  ------       --------------  ----- \n",
            " 0   District     25420 non-null  object\n",
            " 1   Urban/Rural  25420 non-null  object\n",
            " 2   Age_years    25420 non-null  object\n",
            " 3   Male         25420 non-null  int64 \n",
            " 4   Female       25420 non-null  int64 \n",
            " 5   Total        25420 non-null  int64 \n",
            " 6   County       25420 non-null  object\n",
            " 7   Province     25420 non-null  object\n",
            " 8   OBJECTID     25420 non-null  int64 \n",
            "dtypes: int64(4), object(5)\n",
            "memory usage: 1.7+ MB\n"
          ],
          "name": "stdout"
        }
      ]
    },
    {
      "cell_type": "markdown",
      "metadata": {
        "id": "NicC8P9LMjvO"
      },
      "source": [
        "## 1.4 Answering Questions"
      ]
    },
    {
      "cell_type": "markdown",
      "metadata": {
        "id": "8izhaW7UNYGJ"
      },
      "source": [
        "Let's answer the following questions with our dataset"
      ]
    },
    {
      "cell_type": "code",
      "metadata": {
        "id": "tTOgnXvuMxcn",
        "colab": {
          "base_uri": "https://localhost:8080/"
        },
        "outputId": "b8c0737d-453d-4049-86ce-4f955bc0a89e"
      },
      "source": [
        "# Challenge 1\n",
        "# What was the average age of a person of Kenya?\n",
        "# the age_years is indicated as anobject and not an int_Leech\n",
        "#first convert to int then get average age\n",
        "#df[\"Age_years\"] = df[\"Age_years\"].astype(str).astype(int)\n",
        "#df.astype({'Age_years': 'int64'}).dtypes\n",
        "#df['Age_years'].astype(int)\n",
        "#pd.to_numeric(df['Age_years'], errors='ignore')\n",
        "df['Age_years']=pd.to_numeric(df['Age_years'], errors='coerce')\n",
        "df['Age_years'].mean()"
      ],
      "execution_count": null,
      "outputs": [
        {
          "output_type": "execute_result",
          "data": {
            "text/plain": [
              "39.5"
            ]
          },
          "metadata": {
            "tags": []
          },
          "execution_count": 6
        }
      ]
    },
    {
      "cell_type": "code",
      "metadata": {
        "id": "BNegesaWNvQs",
        "colab": {
          "base_uri": "https://localhost:8080/"
        },
        "outputId": "772b5fa1-30e2-4e42-9236-139a5cf904ad"
      },
      "source": [
        "# Challenge 2\n",
        "# What was the average female population in Kenya?\n",
        "#\n",
        "df['Female'].mean()\n"
      ],
      "execution_count": null,
      "outputs": [
        {
          "output_type": "execute_result",
          "data": {
            "text/plain": [
              "763.8725019669552"
            ]
          },
          "metadata": {
            "tags": []
          },
          "execution_count": 22
        }
      ]
    },
    {
      "cell_type": "code",
      "metadata": {
        "id": "7tilTerhNyiP",
        "colab": {
          "base_uri": "https://localhost:8080/"
        },
        "outputId": "85880837-f490-4b4f-afb2-efc91b24c506"
      },
      "source": [
        "# Challenge 3\n",
        "# What was the average male population in Kenya?\n",
        "#\n",
        "df['Male'].mean()"
      ],
      "execution_count": null,
      "outputs": [
        {
          "output_type": "execute_result",
          "data": {
            "text/plain": [
              "755.0140833988985"
            ]
          },
          "metadata": {
            "tags": []
          },
          "execution_count": 23
        }
      ]
    },
    {
      "cell_type": "code",
      "metadata": {
        "id": "OemJ0HDYOHCq",
        "colab": {
          "base_uri": "https://localhost:8080/"
        },
        "outputId": "85cf45cc-d801-4e38-a20e-29d2a895e858"
      },
      "source": [
        "# Challenge 4\n",
        "# Which 5 districts were the most densely populated Kenya in descending order?\n",
        "#MY NOTES_LEECH\n",
        "#To create another colum and ranks in ascending\n",
        "#df['DistrictRanked'] = df['Total'].rank(ascending=1)\n",
        "\n",
        "#df.groupby(['District']).size()\n",
        "#to aggregate values in a specific column\n",
        "df.groupby(['District']).groups.keys()\n"
      ],
      "execution_count": null,
      "outputs": [
        {
          "output_type": "execute_result",
          "data": {
            "text/plain": [
              "dict_keys(['BARINGO', 'BARINGO NORTH', 'BOMET', 'BONDO', 'BORABU', 'BUNGOMA EAST', 'BUNGOMA NORTH', 'BUNGOMA SOUTH', 'BUNGOMA WEST', 'BUNYALA', 'BURET', 'BUSIA', 'BUTERE', 'CHALBI', 'EAST POKOT', 'ELDORET EAST', 'ELDORET WEST', 'EMBU', 'EMUHAYA', 'FAFI', 'GARBATULLA', 'GARISSA', 'GATANGA', 'GATUNDU', 'GITHUNGURI', 'GUCHA', 'GUCHA SOUTH', 'HAMISI', 'HOMABAY', 'IGEMBE', 'IJARA', 'IMENTI NORTH', 'IMENTI SOUTH', 'ISIOLO', 'KAJIADO CENTRAL', 'KAJIADO NORTH', 'KAKAMEGA CENTRAL', 'KAKAMEGA EAST', 'KAKAMEGA NORTH', 'KAKAMEGA SOUTH', 'KALOLENI', 'KANGUNDO', 'KEIYO', 'KERICHO', 'KIAMBU EAST(KIAMBAA)', 'KIAMBU WEST', 'KIBWEZI', 'KIKUYU', 'KILIFI', 'KILINDINI', 'KINANGO', 'KIPKELION', 'KIRINYAGA', 'KISII CENTRAL', 'KISII SOUTH', 'KISUMU EAST', 'KISUMU WEST', 'KITUI', 'KOIBATEK', 'KURIA EAST', 'KURIA WEST', 'KWALE', 'KWANZA', 'KYUSO', 'LAGDERA', 'LAIKIPIA EAST', 'LAIKIPIA NORTH', 'LAIKIPIA WEST', 'LAISAMIS', 'LAMU', 'LARI', 'LOITOKITOK', 'LUGARI', 'MAARA', 'MACHAKOS', 'MAKUENI', 'MALINDI', 'MANDERA CENTRAL', 'MANDERA EAST', 'MANDERA WEST', 'MANGA', 'MARAKWET', 'MARSABIT', 'MASABA', 'MBEERE', 'MBOONI', 'MERU CENTRAL', 'MERU SOUTH', 'MIGORI', 'MOLO', 'MOMBASA', 'MOYALE', 'MSAMBWENI', 'MT. ELGON', 'MUMIAS', 'MURANGA NORTH', 'MURANGA SOUTH', 'MUTOMO', 'MWALA', 'MWINGI', 'NAIROBI EAST', 'NAIROBI NORTH', 'NAIROBI WEST', 'NAIVASHA', 'NAKURU', 'NAKURU NORTH', 'NANDI CENTRAL', 'NANDI EAST', 'NANDI NORTH', 'NANDI SOUTH', 'NAROK NORTH', 'NAROK SOUTH', 'NYAMIRA', 'NYANDARUA NORTH', 'NYANDARUA SOUTH', 'NYANDO', 'NYERI NORTH', 'NYERI SOUTH', 'NZAUI', 'POKOT CENTRAL', 'POKOT NORTH', 'RACHUONYO', 'RARIEDA', 'RONGO', 'RUIRU', 'SAMBURU CENTRAL', 'SAMBURU EAST', 'SAMBURU NORTH', 'SAMIA', 'SIAYA', 'SOTIK', 'SUBA', 'TAITA', 'TANA DELTA', 'TANA RIVER', 'TAVETA', 'TESO NORTH', 'TESO SOUTH', 'THARAKA', 'THIKA EAST', 'THIKA WEST', 'TIGANIA', 'TINDERET', 'TRANS MARA', 'TRANS NZOIA EAST', 'TRANS NZOIA WEST', 'TURKANA CENTRAL', 'TURKANA NORTH', 'TURKANA SOUTH', 'VIHIGA', 'WAJIR EAST', 'WAJIR NORTH', 'WAJIR SOUTH', 'WAJIR WEST', 'WARENG', 'WEST POKOT', 'WESTLANDS', 'YATTA'])"
            ]
          },
          "metadata": {
            "tags": []
          },
          "execution_count": 48
        }
      ]
    },
    {
      "cell_type": "code",
      "metadata": {
        "colab": {
          "base_uri": "https://localhost:8080/",
          "height": 402
        },
        "id": "SAJt3Vy6_kgi",
        "outputId": "16e0dee3-872b-419e-a8ea-9d763e223fde"
      },
      "source": [
        "df.groupby('District')['Total'].sum()\r\n",
        "df"
      ],
      "execution_count": null,
      "outputs": [
        {
          "output_type": "execute_result",
          "data": {
            "text/html": [
              "<div>\n",
              "<style scoped>\n",
              "    .dataframe tbody tr th:only-of-type {\n",
              "        vertical-align: middle;\n",
              "    }\n",
              "\n",
              "    .dataframe tbody tr th {\n",
              "        vertical-align: top;\n",
              "    }\n",
              "\n",
              "    .dataframe thead th {\n",
              "        text-align: right;\n",
              "    }\n",
              "</style>\n",
              "<table border=\"1\" class=\"dataframe\">\n",
              "  <thead>\n",
              "    <tr style=\"text-align: right;\">\n",
              "      <th></th>\n",
              "      <th>District</th>\n",
              "      <th>Urban/Rural</th>\n",
              "      <th>Age_years</th>\n",
              "      <th>Male</th>\n",
              "      <th>Female</th>\n",
              "      <th>Total</th>\n",
              "      <th>County</th>\n",
              "      <th>Province</th>\n",
              "      <th>OBJECTID</th>\n",
              "      <th>DistrictRanked</th>\n",
              "    </tr>\n",
              "  </thead>\n",
              "  <tbody>\n",
              "    <tr>\n",
              "      <th>9881</th>\n",
              "      <td>LAIKIPIA NORTH</td>\n",
              "      <td>Urban</td>\n",
              "      <td>41</td>\n",
              "      <td>7</td>\n",
              "      <td>7</td>\n",
              "      <td>14</td>\n",
              "      <td>Laikipia</td>\n",
              "      <td>RIFT VALLEY</td>\n",
              "      <td>9881</td>\n",
              "      <td>2686.5</td>\n",
              "    </tr>\n",
              "    <tr>\n",
              "      <th>22344</th>\n",
              "      <td>LAIKIPIA NORTH</td>\n",
              "      <td>Rural</td>\n",
              "      <td>40</td>\n",
              "      <td>239</td>\n",
              "      <td>233</td>\n",
              "      <td>472</td>\n",
              "      <td>Laikipia</td>\n",
              "      <td>RIFT VALLEY</td>\n",
              "      <td>22344</td>\n",
              "      <td>11922.5</td>\n",
              "    </tr>\n",
              "    <tr>\n",
              "      <th>22305</th>\n",
              "      <td>LAIKIPIA NORTH</td>\n",
              "      <td>Rural</td>\n",
              "      <td>1</td>\n",
              "      <td>445</td>\n",
              "      <td>439</td>\n",
              "      <td>884</td>\n",
              "      <td>Laikipia</td>\n",
              "      <td>RIFT VALLEY</td>\n",
              "      <td>22305</td>\n",
              "      <td>15149.5</td>\n",
              "    </tr>\n",
              "    <tr>\n",
              "      <th>9862</th>\n",
              "      <td>LAIKIPIA NORTH</td>\n",
              "      <td>Urban</td>\n",
              "      <td>22</td>\n",
              "      <td>21</td>\n",
              "      <td>22</td>\n",
              "      <td>43</td>\n",
              "      <td>Laikipia</td>\n",
              "      <td>RIFT VALLEY</td>\n",
              "      <td>9862</td>\n",
              "      <td>4172.5</td>\n",
              "    </tr>\n",
              "    <tr>\n",
              "      <th>9863</th>\n",
              "      <td>LAIKIPIA NORTH</td>\n",
              "      <td>Urban</td>\n",
              "      <td>23</td>\n",
              "      <td>25</td>\n",
              "      <td>16</td>\n",
              "      <td>41</td>\n",
              "      <td>Laikipia</td>\n",
              "      <td>RIFT VALLEY</td>\n",
              "      <td>9863</td>\n",
              "      <td>4085.5</td>\n",
              "    </tr>\n",
              "    <tr>\n",
              "      <th>...</th>\n",
              "      <td>...</td>\n",
              "      <td>...</td>\n",
              "      <td>...</td>\n",
              "      <td>...</td>\n",
              "      <td>...</td>\n",
              "      <td>...</td>\n",
              "      <td>...</td>\n",
              "      <td>...</td>\n",
              "      <td>...</td>\n",
              "      <td>...</td>\n",
              "    </tr>\n",
              "    <tr>\n",
              "      <th>108</th>\n",
              "      <td>NAIROBI EAST</td>\n",
              "      <td>Urban</td>\n",
              "      <td>25</td>\n",
              "      <td>21383</td>\n",
              "      <td>23090</td>\n",
              "      <td>44473</td>\n",
              "      <td>Nairobi</td>\n",
              "      <td>NAIROBI</td>\n",
              "      <td>108</td>\n",
              "      <td>25420.0</td>\n",
              "    </tr>\n",
              "    <tr>\n",
              "      <th>107</th>\n",
              "      <td>NAIROBI EAST</td>\n",
              "      <td>Urban</td>\n",
              "      <td>24</td>\n",
              "      <td>18028</td>\n",
              "      <td>20785</td>\n",
              "      <td>38813</td>\n",
              "      <td>Nairobi</td>\n",
              "      <td>NAIROBI</td>\n",
              "      <td>107</td>\n",
              "      <td>25417.0</td>\n",
              "    </tr>\n",
              "    <tr>\n",
              "      <th>106</th>\n",
              "      <td>NAIROBI EAST</td>\n",
              "      <td>Urban</td>\n",
              "      <td>23</td>\n",
              "      <td>16882</td>\n",
              "      <td>21301</td>\n",
              "      <td>38183</td>\n",
              "      <td>Nairobi</td>\n",
              "      <td>NAIROBI</td>\n",
              "      <td>106</td>\n",
              "      <td>25416.0</td>\n",
              "    </tr>\n",
              "    <tr>\n",
              "      <th>105</th>\n",
              "      <td>NAIROBI EAST</td>\n",
              "      <td>Urban</td>\n",
              "      <td>22</td>\n",
              "      <td>15898</td>\n",
              "      <td>21697</td>\n",
              "      <td>37595</td>\n",
              "      <td>Nairobi</td>\n",
              "      <td>NAIROBI</td>\n",
              "      <td>105</td>\n",
              "      <td>25415.0</td>\n",
              "    </tr>\n",
              "    <tr>\n",
              "      <th>162</th>\n",
              "      <td>NAIROBI EAST</td>\n",
              "      <td>Urban</td>\n",
              "      <td>80+</td>\n",
              "      <td>787</td>\n",
              "      <td>1342</td>\n",
              "      <td>2129</td>\n",
              "      <td>Nairobi</td>\n",
              "      <td>NAIROBI</td>\n",
              "      <td>162</td>\n",
              "      <td>19839.0</td>\n",
              "    </tr>\n",
              "  </tbody>\n",
              "</table>\n",
              "<p>25420 rows × 10 columns</p>\n",
              "</div>"
            ],
            "text/plain": [
              "             District Urban/Rural  ... OBJECTID  DistrictRanked\n",
              "9881   LAIKIPIA NORTH       Urban  ...     9881          2686.5\n",
              "22344  LAIKIPIA NORTH       Rural  ...    22344         11922.5\n",
              "22305  LAIKIPIA NORTH       Rural  ...    22305         15149.5\n",
              "9862   LAIKIPIA NORTH       Urban  ...     9862          4172.5\n",
              "9863   LAIKIPIA NORTH       Urban  ...     9863          4085.5\n",
              "...               ...         ...  ...      ...             ...\n",
              "108      NAIROBI EAST       Urban  ...      108         25420.0\n",
              "107      NAIROBI EAST       Urban  ...      107         25417.0\n",
              "106      NAIROBI EAST       Urban  ...      106         25416.0\n",
              "105      NAIROBI EAST       Urban  ...      105         25415.0\n",
              "162      NAIROBI EAST       Urban  ...      162         19839.0\n",
              "\n",
              "[25420 rows x 10 columns]"
            ]
          },
          "metadata": {
            "tags": []
          },
          "execution_count": 59
        }
      ]
    },
    {
      "cell_type": "code",
      "metadata": {
        "id": "fcPB79g6_jps"
      },
      "source": [
        ""
      ],
      "execution_count": null,
      "outputs": []
    },
    {
      "cell_type": "code",
      "metadata": {
        "id": "o9quR4yHFC8e"
      },
      "source": [
        "grouped_df = df.groupby('District')\r\n",
        "df[\"DistrictAggregate\"]=grouped_df['Total'].transform(sum)\r\n",
        "df = df.sort_values(\"DistrictAggregate\", ascending=True)\r\n",
        "df = df.drop(\"DistrictAggregate\", axis=1)"
      ],
      "execution_count": null,
      "outputs": []
    },
    {
      "cell_type": "code",
      "metadata": {
        "id": "CIxC5arSOLak"
      },
      "source": [
        "# Challenge 5\n",
        "# Which 5 counties were the most densely populated Counties in descending order?\n",
        "# \n",
        "OUR CODE GOES HERE"
      ],
      "execution_count": null,
      "outputs": []
    },
    {
      "cell_type": "code",
      "metadata": {
        "id": "gSjjnw56OP8O"
      },
      "source": [
        "# Challenge 6\n",
        "# Which 5 districts were the most sparsely populated in descending order?\n",
        "# \n",
        "OUR CODE GOES HERE"
      ],
      "execution_count": null,
      "outputs": []
    },
    {
      "cell_type": "code",
      "metadata": {
        "id": "UZLYqF7UOTtu",
        "colab": {
          "base_uri": "https://localhost:8080/"
        },
        "outputId": "9f3665ab-3b92-4ed2-d853-d3fa18e25604"
      },
      "source": [
        "# Challenge 7\n",
        "# What was the average population of the the most densely populated county in Kenya?\n",
        "df['Total'].groupby([df['County']]).mean().sort_values(ascending=False).head(1)\n"
      ],
      "execution_count": null,
      "outputs": [
        {
          "output_type": "execute_result",
          "data": {
            "text/plain": [
              "County\n",
              "Nairobi    9568.198171\n",
              "Name: Total, dtype: float64"
            ]
          },
          "metadata": {
            "tags": []
          },
          "execution_count": 64
        }
      ]
    },
    {
      "cell_type": "code",
      "metadata": {
        "id": "1qk8wF3MOXDu"
      },
      "source": [
        "# Challenge 8\n",
        "# What was the average population of the the most sparsely populated county in Kenya?\n",
        "# \n",
        "OUR CODE GOES HERE"
      ],
      "execution_count": null,
      "outputs": []
    },
    {
      "cell_type": "code",
      "metadata": {
        "id": "1V21Beok3Rdc",
        "colab": {
          "base_uri": "https://localhost:8080/"
        },
        "outputId": "60b7486e-b22a-4c07-de62-e5f367c4d786"
      },
      "source": [
        "# Challenge 9\n",
        "# What was the total population of Busia County? \n",
        "# \n",
        "\n",
        "df['Total'].groupby([df['County']]).get_group('Busia').sum()                                      \n",
        "                                     "
      ],
      "execution_count": null,
      "outputs": [
        {
          "output_type": "execute_result",
          "data": {
            "text/plain": [
              "743946"
            ]
          },
          "metadata": {
            "tags": []
          },
          "execution_count": 85
        }
      ]
    },
    {
      "cell_type": "code",
      "metadata": {
        "id": "Vtq7pAI73RTZ",
        "colab": {
          "base_uri": "https://localhost:8080/",
          "height": 128
        },
        "outputId": "3598cfc3-206e-4f1f-a806-c44472ed326c"
      },
      "source": [
        "# Challenge 10\n",
        "# What was the average age of person in Busia County? How many people of this age were in Busia County?\n",
        "# \n",
        "\n",
        "#df['Age_years'].groupby([df['County']]).get_group('Busia').mean()\n",
        "ba=df['Age_years'].groupby([df['County']]).get_group('Busia'\n",
        "bdf['Age_years'] > 39.5)\n"
      ],
      "execution_count": null,
      "outputs": [
        {
          "output_type": "error",
          "ename": "SyntaxError",
          "evalue": "ignored",
          "traceback": [
            "\u001b[0;36m  File \u001b[0;32m\"<ipython-input-39-932518751e0a>\"\u001b[0;36m, line \u001b[0;32m7\u001b[0m\n\u001b[0;31m    ba[(df['Age_years'] > 39.5)\u001b[0m\n\u001b[0m     ^\u001b[0m\n\u001b[0;31mSyntaxError\u001b[0m\u001b[0;31m:\u001b[0m invalid syntax\n"
          ]
        }
      ]
    },
    {
      "cell_type": "code",
      "metadata": {
        "colab": {
          "base_uri": "https://localhost:8080/"
        },
        "id": "hUe5KmuyGTtW",
        "outputId": "82615e06-93f5-4176-fbff-9be8082417cb"
      },
      "source": [
        "#getting the total number of items categorized within a column using.apply() function\r\n",
        "grouped=df.groupby(\"County\")[\"Urban/Rural\"]\r\n",
        "grouped.apply(lambda x:x.value_counts())\r\n",
        "#grouped.apply(lambda x:x.sum())"
      ],
      "execution_count": null,
      "outputs": [
        {
          "output_type": "execute_result",
          "data": {
            "text/plain": [
              "County           \n",
              "Baringo     Rural    328\n",
              "            Urban    328\n",
              "Bomet       Rural    246\n",
              "            Urban    246\n",
              "Bungoma     Rural    410\n",
              "                    ... \n",
              "Vihiga      Urban    246\n",
              "Wajir       Rural    328\n",
              "            Urban    328\n",
              "West Pokot  Rural    246\n",
              "            Urban    246\n",
              "Name: Urban/Rural, Length: 92, dtype: int64"
            ]
          },
          "metadata": {
            "tags": []
          },
          "execution_count": 33
        }
      ]
    },
    {
      "cell_type": "code",
      "metadata": {
        "id": "bLBVF-UBkNm8"
      },
      "source": [
        "#the total population of a particular county\r\n",
        "df['Total'].groupby([df['County']]).get_group('Nairobi').sum()"
      ],
      "execution_count": null,
      "outputs": []
    },
    {
      "cell_type": "code",
      "metadata": {
        "colab": {
          "base_uri": "https://localhost:8080/",
          "height": 225
        },
        "id": "pYDM2BcUmMcD",
        "outputId": "e544f0a3-45f0-4e1d-e888-635357e02f73"
      },
      "source": [
        "# performing aggregation using \r\n",
        "# aggregate method \r\n",
        "\r\n",
        "df.groupby('County') .aggregate(np.sum).head(5) \r\n"
      ],
      "execution_count": null,
      "outputs": [
        {
          "output_type": "execute_result",
          "data": {
            "text/html": [
              "<div>\n",
              "<style scoped>\n",
              "    .dataframe tbody tr th:only-of-type {\n",
              "        vertical-align: middle;\n",
              "    }\n",
              "\n",
              "    .dataframe tbody tr th {\n",
              "        vertical-align: top;\n",
              "    }\n",
              "\n",
              "    .dataframe thead th {\n",
              "        text-align: right;\n",
              "    }\n",
              "</style>\n",
              "<table border=\"1\" class=\"dataframe\">\n",
              "  <thead>\n",
              "    <tr style=\"text-align: right;\">\n",
              "      <th></th>\n",
              "      <th>Male</th>\n",
              "      <th>Female</th>\n",
              "      <th>Total</th>\n",
              "      <th>OBJECTID</th>\n",
              "      <th>DistrictRanked</th>\n",
              "    </tr>\n",
              "    <tr>\n",
              "      <th>County</th>\n",
              "      <th></th>\n",
              "      <th></th>\n",
              "      <th></th>\n",
              "      <th></th>\n",
              "      <th></th>\n",
              "    </tr>\n",
              "  </thead>\n",
              "  <tbody>\n",
              "    <tr>\n",
              "      <th>Baringo</th>\n",
              "      <td>279081</td>\n",
              "      <td>276480</td>\n",
              "      <td>555561</td>\n",
              "      <td>9897248</td>\n",
              "      <td>6604597.0</td>\n",
              "    </tr>\n",
              "    <tr>\n",
              "      <th>Bomet</th>\n",
              "      <td>442830</td>\n",
              "      <td>449005</td>\n",
              "      <td>891835</td>\n",
              "      <td>8532510</td>\n",
              "      <td>6817835.0</td>\n",
              "    </tr>\n",
              "    <tr>\n",
              "      <th>Bungoma</th>\n",
              "      <td>671548</td>\n",
              "      <td>703515</td>\n",
              "      <td>1375063</td>\n",
              "      <td>15229450</td>\n",
              "      <td>11845949.5</td>\n",
              "    </tr>\n",
              "    <tr>\n",
              "      <th>Busia</th>\n",
              "      <td>356122</td>\n",
              "      <td>387824</td>\n",
              "      <td>743946</td>\n",
              "      <td>15565650</td>\n",
              "      <td>9003438.5</td>\n",
              "    </tr>\n",
              "    <tr>\n",
              "      <th>Elgeyo Marakwet</th>\n",
              "      <td>183738</td>\n",
              "      <td>186260</td>\n",
              "      <td>369998</td>\n",
              "      <td>5110076</td>\n",
              "      <td>4033343.5</td>\n",
              "    </tr>\n",
              "  </tbody>\n",
              "</table>\n",
              "</div>"
            ],
            "text/plain": [
              "                   Male  Female    Total  OBJECTID  DistrictRanked\n",
              "County                                                            \n",
              "Baringo          279081  276480   555561   9897248       6604597.0\n",
              "Bomet            442830  449005   891835   8532510       6817835.0\n",
              "Bungoma          671548  703515  1375063  15229450      11845949.5\n",
              "Busia            356122  387824   743946  15565650       9003438.5\n",
              "Elgeyo Marakwet  183738  186260   369998   5110076       4033343.5"
            ]
          },
          "metadata": {
            "tags": []
          },
          "execution_count": 76
        }
      ]
    },
    {
      "cell_type": "code",
      "metadata": {
        "colab": {
          "base_uri": "https://localhost:8080/",
          "height": 225
        },
        "id": "E3PoN6yvm7Gr",
        "outputId": "905e6510-ba19-4fc3-c340-bbb1408a1222"
      },
      "source": [
        "# applying a function by passing \r\n",
        "# a list of functions\r\n",
        "#aggregating on a particular item\r\n",
        "\r\n",
        "#the grp defines the element of interest_Leech \r\n",
        "\r\n",
        "grp = df.groupby('County') \r\n",
        "\r\n",
        "grp['Total'].agg([np.sum, np.mean]).head()\r\n"
      ],
      "execution_count": null,
      "outputs": [
        {
          "output_type": "execute_result",
          "data": {
            "text/html": [
              "<div>\n",
              "<style scoped>\n",
              "    .dataframe tbody tr th:only-of-type {\n",
              "        vertical-align: middle;\n",
              "    }\n",
              "\n",
              "    .dataframe tbody tr th {\n",
              "        vertical-align: top;\n",
              "    }\n",
              "\n",
              "    .dataframe thead th {\n",
              "        text-align: right;\n",
              "    }\n",
              "</style>\n",
              "<table border=\"1\" class=\"dataframe\">\n",
              "  <thead>\n",
              "    <tr style=\"text-align: right;\">\n",
              "      <th></th>\n",
              "      <th>sum</th>\n",
              "      <th>mean</th>\n",
              "    </tr>\n",
              "    <tr>\n",
              "      <th>County</th>\n",
              "      <th></th>\n",
              "      <th></th>\n",
              "    </tr>\n",
              "  </thead>\n",
              "  <tbody>\n",
              "    <tr>\n",
              "      <th>Baringo</th>\n",
              "      <td>555561</td>\n",
              "      <td>846.891768</td>\n",
              "    </tr>\n",
              "    <tr>\n",
              "      <th>Bomet</th>\n",
              "      <td>891835</td>\n",
              "      <td>1812.672764</td>\n",
              "    </tr>\n",
              "    <tr>\n",
              "      <th>Bungoma</th>\n",
              "      <td>1375063</td>\n",
              "      <td>1676.906098</td>\n",
              "    </tr>\n",
              "    <tr>\n",
              "      <th>Busia</th>\n",
              "      <td>743946</td>\n",
              "      <td>907.251220</td>\n",
              "    </tr>\n",
              "    <tr>\n",
              "      <th>Elgeyo Marakwet</th>\n",
              "      <td>369998</td>\n",
              "      <td>1128.042683</td>\n",
              "    </tr>\n",
              "  </tbody>\n",
              "</table>\n",
              "</div>"
            ],
            "text/plain": [
              "                     sum         mean\n",
              "County                               \n",
              "Baringo           555561   846.891768\n",
              "Bomet             891835  1812.672764\n",
              "Bungoma          1375063  1676.906098\n",
              "Busia             743946   907.251220\n",
              "Elgeyo Marakwet   369998  1128.042683"
            ]
          },
          "metadata": {
            "tags": []
          },
          "execution_count": 79
        }
      ]
    },
    {
      "cell_type": "code",
      "metadata": {
        "id": "8xkStdjdXS3w",
        "colab": {
          "base_uri": "https://localhost:8080/"
        },
        "outputId": "861665fe-7f7f-4157-a40f-9595fa7bf4a4"
      },
      "source": [
        "# Challenge 11\n",
        "# What was the Total population of Teso South District?\n",
        "# \n",
        "df['Total'].groupby([df['District']]).get_group('TESO SOUTH').sum()"
      ],
      "execution_count": null,
      "outputs": [
        {
          "output_type": "execute_result",
          "data": {
            "text/plain": [
              "137924"
            ]
          },
          "metadata": {
            "tags": []
          },
          "execution_count": 88
        }
      ]
    },
    {
      "cell_type": "code",
      "metadata": {
        "id": "rgVsXH_5XVCh",
        "colab": {
          "base_uri": "https://localhost:8080/"
        },
        "outputId": "aa260123-7e6a-4537-ec16-3f8d425845b1"
      },
      "source": [
        "# Challenge 12\n",
        "# What was the urban population of Teso South District?\n",
        "# \n",
        "#ds=df['Total'].groupby([df['District']]).get_group('TESO SOUTH').sum()\n",
        "#new = data[\"Gender\"].isin([\"Male\"])\n",
        "#dsb=ds[\"Urban\"].isin([\"Urban/Rural\"])\n",
        "DC = ['TESO SOUTH']\n",
        "dts=df[df.District.isin(DC) & (df['Urban/Rural'] == \"Urban\")]\n",
        "dts['Total'].sum()\n"
      ],
      "execution_count": null,
      "outputs": [
        {
          "output_type": "execute_result",
          "data": {
            "text/plain": [
              "26162"
            ]
          },
          "metadata": {
            "tags": []
          },
          "execution_count": 63
        }
      ]
    },
    {
      "cell_type": "code",
      "metadata": {
        "id": "XvvFWhuDXXeP",
        "colab": {
          "base_uri": "https://localhost:8080/"
        },
        "outputId": "ada6d597-c793-4f0e-9476-b808ac17e2d9"
      },
      "source": [
        "# Challenge 13\n",
        "# What was the rural population of Teso South District?\n",
        "# \n",
        "DC = ['TESO SOUTH']\n",
        "dts=df[df.District.isin(DC) & (df['Urban/Rural'] == \"Rural\")]\n",
        "dts['Total'].sum()"
      ],
      "execution_count": null,
      "outputs": [
        {
          "output_type": "execute_result",
          "data": {
            "text/plain": [
              "111762"
            ]
          },
          "metadata": {
            "tags": []
          },
          "execution_count": 65
        }
      ]
    },
    {
      "cell_type": "code",
      "metadata": {
        "id": "q1iq02FuXc2R",
        "colab": {
          "base_uri": "https://localhost:8080/",
          "height": 387
        },
        "outputId": "fcf3d508-2d2d-45dd-8e4f-37983b8d87c2"
      },
      "source": [
        "# Challenge 14\n",
        "# What was the population of people aged 60 and above in Kenya?\n",
        "#\n",
        "#ds=df[(df['Total']) & (df['Age_years'] > 60)]\n",
        "pops=df['Age_years'] > 60\n",
        "pop[\"Total\"].sum()\n"
      ],
      "execution_count": null,
      "outputs": [
        {
          "output_type": "error",
          "ename": "TypeError",
          "evalue": "ignored",
          "traceback": [
            "\u001b[0;31m---------------------------------------------------------------------------\u001b[0m",
            "\u001b[0;31mTypeError\u001b[0m                                 Traceback (most recent call last)",
            "\u001b[0;32m<ipython-input-69-84ea269de4af>\u001b[0m in \u001b[0;36m<module>\u001b[0;34m()\u001b[0m\n\u001b[1;32m      3\u001b[0m \u001b[0;31m#\u001b[0m\u001b[0;34m\u001b[0m\u001b[0;34m\u001b[0m\u001b[0;34m\u001b[0m\u001b[0m\n\u001b[1;32m      4\u001b[0m \u001b[0;31m#ds=df[(df['Total']) & (df['Age_years'] > 60)]\u001b[0m\u001b[0;34m\u001b[0m\u001b[0;34m\u001b[0m\u001b[0;34m\u001b[0m\u001b[0m\n\u001b[0;32m----> 5\u001b[0;31m \u001b[0mpop\u001b[0m\u001b[0;34m=\u001b[0m\u001b[0mdf\u001b[0m\u001b[0;34m[\u001b[0m\u001b[0;34m'Age_years'\u001b[0m\u001b[0;34m]\u001b[0m \u001b[0;34m>\u001b[0m \u001b[0;36m60\u001b[0m\u001b[0;34m\u001b[0m\u001b[0;34m\u001b[0m\u001b[0m\n\u001b[0m\u001b[1;32m      6\u001b[0m \u001b[0mpop\u001b[0m\u001b[0;34m[\u001b[0m\u001b[0;34m\"Total\"\u001b[0m\u001b[0;34m]\u001b[0m\u001b[0;34m.\u001b[0m\u001b[0msum\u001b[0m\u001b[0;34m(\u001b[0m\u001b[0;34m)\u001b[0m\u001b[0;34m\u001b[0m\u001b[0;34m\u001b[0m\u001b[0m\n",
            "\u001b[0;32m/usr/local/lib/python3.6/dist-packages/pandas/core/ops/common.py\u001b[0m in \u001b[0;36mnew_method\u001b[0;34m(self, other)\u001b[0m\n\u001b[1;32m     63\u001b[0m         \u001b[0mother\u001b[0m \u001b[0;34m=\u001b[0m \u001b[0mitem_from_zerodim\u001b[0m\u001b[0;34m(\u001b[0m\u001b[0mother\u001b[0m\u001b[0;34m)\u001b[0m\u001b[0;34m\u001b[0m\u001b[0;34m\u001b[0m\u001b[0m\n\u001b[1;32m     64\u001b[0m \u001b[0;34m\u001b[0m\u001b[0m\n\u001b[0;32m---> 65\u001b[0;31m         \u001b[0;32mreturn\u001b[0m \u001b[0mmethod\u001b[0m\u001b[0;34m(\u001b[0m\u001b[0mself\u001b[0m\u001b[0;34m,\u001b[0m \u001b[0mother\u001b[0m\u001b[0;34m)\u001b[0m\u001b[0;34m\u001b[0m\u001b[0;34m\u001b[0m\u001b[0m\n\u001b[0m\u001b[1;32m     66\u001b[0m \u001b[0;34m\u001b[0m\u001b[0m\n\u001b[1;32m     67\u001b[0m     \u001b[0;32mreturn\u001b[0m \u001b[0mnew_method\u001b[0m\u001b[0;34m\u001b[0m\u001b[0;34m\u001b[0m\u001b[0m\n",
            "\u001b[0;32m/usr/local/lib/python3.6/dist-packages/pandas/core/ops/__init__.py\u001b[0m in \u001b[0;36mwrapper\u001b[0;34m(self, other)\u001b[0m\n\u001b[1;32m    368\u001b[0m         \u001b[0mrvalues\u001b[0m \u001b[0;34m=\u001b[0m \u001b[0mextract_array\u001b[0m\u001b[0;34m(\u001b[0m\u001b[0mother\u001b[0m\u001b[0;34m,\u001b[0m \u001b[0mextract_numpy\u001b[0m\u001b[0;34m=\u001b[0m\u001b[0;32mTrue\u001b[0m\u001b[0;34m)\u001b[0m\u001b[0;34m\u001b[0m\u001b[0;34m\u001b[0m\u001b[0m\n\u001b[1;32m    369\u001b[0m \u001b[0;34m\u001b[0m\u001b[0m\n\u001b[0;32m--> 370\u001b[0;31m         \u001b[0mres_values\u001b[0m \u001b[0;34m=\u001b[0m \u001b[0mcomparison_op\u001b[0m\u001b[0;34m(\u001b[0m\u001b[0mlvalues\u001b[0m\u001b[0;34m,\u001b[0m \u001b[0mrvalues\u001b[0m\u001b[0;34m,\u001b[0m \u001b[0mop\u001b[0m\u001b[0;34m)\u001b[0m\u001b[0;34m\u001b[0m\u001b[0;34m\u001b[0m\u001b[0m\n\u001b[0m\u001b[1;32m    371\u001b[0m \u001b[0;34m\u001b[0m\u001b[0m\n\u001b[1;32m    372\u001b[0m         \u001b[0;32mreturn\u001b[0m \u001b[0mself\u001b[0m\u001b[0;34m.\u001b[0m\u001b[0m_construct_result\u001b[0m\u001b[0;34m(\u001b[0m\u001b[0mres_values\u001b[0m\u001b[0;34m,\u001b[0m \u001b[0mname\u001b[0m\u001b[0;34m=\u001b[0m\u001b[0mres_name\u001b[0m\u001b[0;34m)\u001b[0m\u001b[0;34m\u001b[0m\u001b[0;34m\u001b[0m\u001b[0m\n",
            "\u001b[0;32m/usr/local/lib/python3.6/dist-packages/pandas/core/ops/array_ops.py\u001b[0m in \u001b[0;36mcomparison_op\u001b[0;34m(left, right, op)\u001b[0m\n\u001b[1;32m    242\u001b[0m \u001b[0;34m\u001b[0m\u001b[0m\n\u001b[1;32m    243\u001b[0m     \u001b[0;32melif\u001b[0m \u001b[0mis_object_dtype\u001b[0m\u001b[0;34m(\u001b[0m\u001b[0mlvalues\u001b[0m\u001b[0;34m.\u001b[0m\u001b[0mdtype\u001b[0m\u001b[0;34m)\u001b[0m\u001b[0;34m:\u001b[0m\u001b[0;34m\u001b[0m\u001b[0;34m\u001b[0m\u001b[0m\n\u001b[0;32m--> 244\u001b[0;31m         \u001b[0mres_values\u001b[0m \u001b[0;34m=\u001b[0m \u001b[0mcomp_method_OBJECT_ARRAY\u001b[0m\u001b[0;34m(\u001b[0m\u001b[0mop\u001b[0m\u001b[0;34m,\u001b[0m \u001b[0mlvalues\u001b[0m\u001b[0;34m,\u001b[0m \u001b[0mrvalues\u001b[0m\u001b[0;34m)\u001b[0m\u001b[0;34m\u001b[0m\u001b[0;34m\u001b[0m\u001b[0m\n\u001b[0m\u001b[1;32m    245\u001b[0m \u001b[0;34m\u001b[0m\u001b[0m\n\u001b[1;32m    246\u001b[0m     \u001b[0;32melse\u001b[0m\u001b[0;34m:\u001b[0m\u001b[0;34m\u001b[0m\u001b[0;34m\u001b[0m\u001b[0m\n",
            "\u001b[0;32m/usr/local/lib/python3.6/dist-packages/pandas/core/ops/array_ops.py\u001b[0m in \u001b[0;36mcomp_method_OBJECT_ARRAY\u001b[0;34m(op, x, y)\u001b[0m\n\u001b[1;32m     54\u001b[0m         \u001b[0mresult\u001b[0m \u001b[0;34m=\u001b[0m \u001b[0mlibops\u001b[0m\u001b[0;34m.\u001b[0m\u001b[0mvec_compare\u001b[0m\u001b[0;34m(\u001b[0m\u001b[0mx\u001b[0m\u001b[0;34m.\u001b[0m\u001b[0mravel\u001b[0m\u001b[0;34m(\u001b[0m\u001b[0;34m)\u001b[0m\u001b[0;34m,\u001b[0m \u001b[0my\u001b[0m\u001b[0;34m.\u001b[0m\u001b[0mravel\u001b[0m\u001b[0;34m(\u001b[0m\u001b[0;34m)\u001b[0m\u001b[0;34m,\u001b[0m \u001b[0mop\u001b[0m\u001b[0;34m)\u001b[0m\u001b[0;34m\u001b[0m\u001b[0;34m\u001b[0m\u001b[0m\n\u001b[1;32m     55\u001b[0m     \u001b[0;32melse\u001b[0m\u001b[0;34m:\u001b[0m\u001b[0;34m\u001b[0m\u001b[0;34m\u001b[0m\u001b[0m\n\u001b[0;32m---> 56\u001b[0;31m         \u001b[0mresult\u001b[0m \u001b[0;34m=\u001b[0m \u001b[0mlibops\u001b[0m\u001b[0;34m.\u001b[0m\u001b[0mscalar_compare\u001b[0m\u001b[0;34m(\u001b[0m\u001b[0mx\u001b[0m\u001b[0;34m.\u001b[0m\u001b[0mravel\u001b[0m\u001b[0;34m(\u001b[0m\u001b[0;34m)\u001b[0m\u001b[0;34m,\u001b[0m \u001b[0my\u001b[0m\u001b[0;34m,\u001b[0m \u001b[0mop\u001b[0m\u001b[0;34m)\u001b[0m\u001b[0;34m\u001b[0m\u001b[0;34m\u001b[0m\u001b[0m\n\u001b[0m\u001b[1;32m     57\u001b[0m     \u001b[0;32mreturn\u001b[0m \u001b[0mresult\u001b[0m\u001b[0;34m.\u001b[0m\u001b[0mreshape\u001b[0m\u001b[0;34m(\u001b[0m\u001b[0mx\u001b[0m\u001b[0;34m.\u001b[0m\u001b[0mshape\u001b[0m\u001b[0;34m)\u001b[0m\u001b[0;34m\u001b[0m\u001b[0;34m\u001b[0m\u001b[0m\n\u001b[1;32m     58\u001b[0m \u001b[0;34m\u001b[0m\u001b[0m\n",
            "\u001b[0;32mpandas/_libs/ops.pyx\u001b[0m in \u001b[0;36mpandas._libs.ops.scalar_compare\u001b[0;34m()\u001b[0m\n",
            "\u001b[0;31mTypeError\u001b[0m: '>' not supported between instances of 'str' and 'int'"
          ]
        }
      ]
    },
    {
      "cell_type": "code",
      "metadata": {
        "id": "drAWpxBZXhcF"
      },
      "source": [
        "# Challenge 15 \n",
        "# What was the urban population in Kenya?\n",
        "#\n",
        "grp = df[df.] (df['Urban/Rural'] < 5)]\n",
        "\n",
        "grp['Total'].agg([np.sum,"
      ],
      "execution_count": null,
      "outputs": []
    }
  ]
}