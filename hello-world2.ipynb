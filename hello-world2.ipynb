Hello, world2!
Welcome to my second website! Iam about to embark on the exciting journey of learning how to code. Won't you join me?

print("Kenya is a cool country")
print("Ephantus is exploring this git")